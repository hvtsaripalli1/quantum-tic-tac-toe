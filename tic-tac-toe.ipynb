{
 "cells": [
  {
   "cell_type": "code",
   "execution_count": 1,
   "id": "e7eaf79d-df37-4332-86ba-8a042ff8998d",
   "metadata": {
    "tags": []
   },
   "outputs": [],
   "source": [
    "# Importing standard Qiskit libraries\n",
    "from qiskit import QuantumCircuit, transpile\n",
    "from qiskit.tools.jupyter import *\n",
    "from qiskit.visualization import *\n",
    "from ibm_quantum_widgets import *\n",
    "from qiskit_aer import AerSimulator\n",
    "\n",
    "# qiskit-ibmq-provider has been deprecated.\n",
    "# Please see the Migration Guides in https://ibm.biz/provider_migration_guide for more detail.\n",
    "from qiskit_ibm_runtime import QiskitRuntimeService, Sampler, Estimator, Session, Options\n",
    "\n",
    "# Loading your IBM Quantum account(s)\n",
    "service = QiskitRuntimeService(channel=\"ibm_quantum\")\n",
    "\n",
    "# Invoke a primitive inside a session. For more details see https://qiskit.org/documentation/partners/qiskit_ibm_runtime/tutorials.html\n",
    "# with Session(backend=service.backend(\"ibmq_qasm_simulator\")):\n",
    "#     result = Sampler().run(circuits).result()"
   ]
  },
  {
   "cell_type": "code",
   "execution_count": 3,
   "id": "9ef6f5f5-5b83-41c4-80ee-03e8d49eb5b4",
   "metadata": {
    "tags": []
   },
   "outputs": [
    {
     "name": "stdout",
     "output_type": "stream",
     "text": [
      "---------\n",
      "|   |   |   |\n",
      "---------\n",
      "|   |   |   |\n",
      "---------\n",
      "|   |   |   |\n",
      "---------\n"
     ]
    },
    {
     "name": "stdin",
     "output_type": "stream",
     "text": [
      "Player X's move (0-8):  0\n"
     ]
    },
    {
     "name": "stdout",
     "output_type": "stream",
     "text": [
      "---------\n",
      "| X |   |   |\n",
      "---------\n",
      "|   |   |   |\n",
      "---------\n",
      "|   |   |   |\n",
      "---------\n"
     ]
    },
    {
     "name": "stdin",
     "output_type": "stream",
     "text": [
      "Player O's move (0-8):  2\n"
     ]
    },
    {
     "name": "stdout",
     "output_type": "stream",
     "text": [
      "---------\n",
      "| X |   | O |\n",
      "---------\n",
      "|   |   |   |\n",
      "---------\n",
      "|   |   |   |\n",
      "---------\n"
     ]
    },
    {
     "name": "stdin",
     "output_type": "stream",
     "text": [
      "Player X's move (0-8):  4\n"
     ]
    },
    {
     "name": "stdout",
     "output_type": "stream",
     "text": [
      "---------\n",
      "| X |   | O |\n",
      "---------\n",
      "|   | X |   |\n",
      "---------\n",
      "|   |   |   |\n",
      "---------\n"
     ]
    },
    {
     "name": "stdin",
     "output_type": "stream",
     "text": [
      "Player O's move (0-8):  8\n"
     ]
    },
    {
     "name": "stdout",
     "output_type": "stream",
     "text": [
      "---------\n",
      "| X |   | O |\n",
      "---------\n",
      "|   | X |   |\n",
      "---------\n",
      "|   |   | O |\n",
      "---------\n"
     ]
    },
    {
     "name": "stdin",
     "output_type": "stream",
     "text": [
      "Player X's move (0-8):  6\n"
     ]
    },
    {
     "name": "stdout",
     "output_type": "stream",
     "text": [
      "---------\n",
      "| X |   | O |\n",
      "---------\n",
      "|   | X |   |\n",
      "---------\n",
      "| X |   | O |\n",
      "---------\n"
     ]
    },
    {
     "name": "stdin",
     "output_type": "stream",
     "text": [
      "Player O's move (0-8):  5\n"
     ]
    },
    {
     "name": "stdout",
     "output_type": "stream",
     "text": [
      "---------\n",
      "| X |   | O |\n",
      "---------\n",
      "|   | X | O |\n",
      "---------\n",
      "| X |   | O |\n",
      "---------\n",
      "Player O wins!\n"
     ]
    }
   ],
   "source": [
    "from qiskit import QuantumCircuit, Aer, execute\n",
    "from qiskit.visualization import plot_bloch_multivector, plot_histogram\n",
    "import numpy as np\n",
    "\n",
    "# Define the quantum circuit for a single qubit\n",
    "def create_single_qubit_circuit():\n",
    "    qc = QuantumCircuit(1, 1)\n",
    "    return qc\n",
    "\n",
    "# Perform a measurement on the qubit\n",
    "def measure(qc):\n",
    "    qc.measure(0, 0)\n",
    "    return qc\n",
    "\n",
    "# Simulate the quantum circuit and get the measurement result\n",
    "def simulate_circuit(qc, backend):\n",
    "    job = execute(qc, backend)\n",
    "    result = job.result()\n",
    "    counts = result.get_counts(qc)\n",
    "    return counts\n",
    "\n",
    "# Map the game board state to qubit states\n",
    "def map_game_state_to_qubits(game_state):\n",
    "    qubit_states = {\n",
    "        \" \": [1, 0],  # Empty cell\n",
    "        \"X\": [0, 1],  # Player X\n",
    "        \"O\": [1 / np.sqrt(2), 1j / np.sqrt(2)]  # Player O\n",
    "    }\n",
    "\n",
    "    mapped_state = []\n",
    "    for cell in game_state:\n",
    "        mapped_state.extend(qubit_states[cell])\n",
    "    return mapped_state\n",
    "\n",
    "# Map the qubit states to game board state\n",
    "def map_qubits_to_game_state(qubit_states):\n",
    "    qubit_states = np.array(qubit_states).reshape(-1, 2)\n",
    "    game_state = \"\"\n",
    "    for qubit_state in qubit_states:\n",
    "        if np.allclose(qubit_state, [1, 0]):\n",
    "            game_state += \" \"\n",
    "        elif np.allclose(qubit_state, [0, 1]):\n",
    "            game_state += \"X\"\n",
    "        elif np.allclose(qubit_state, [1 / np.sqrt(2), 1j / np.sqrt(2)]):\n",
    "            game_state += \"O\"\n",
    "    return game_state\n",
    "\n",
    "# Display the tic-tac-toe game board\n",
    "def display_game_board(game_state):\n",
    "    print(\"---------\")\n",
    "    for i in range(0, 9, 3):\n",
    "        row = \" | \".join(game_state[i:i + 3])\n",
    "        print(f\"| {row} |\")\n",
    "        print(\"---------\")\n",
    "\n",
    "# Initialize the game\n",
    "def initialize_game():\n",
    "    game_state = [\" \"] * 9\n",
    "    display_game_board(game_state)\n",
    "    return game_state\n",
    "\n",
    "# Play a move\n",
    "def play_move(game_state, position, player):\n",
    "    if game_state[position] == \" \":\n",
    "        game_state[position] = player\n",
    "        display_game_board(game_state)\n",
    "    else:\n",
    "        print(\"Invalid move! The cell is already occupied.\")\n",
    "\n",
    "# Check if a player has won\n",
    "def check_win(game_state, player):\n",
    "    winning_combinations = [\n",
    "        [0, 1, 2], [3, 4, 5], [6, 7, 8],  # Rows\n",
    "        [0, 3, 6], [1, 4, 7], [2, 5, 8],  # Columns\n",
    "        [0, 4, 8], [2, 4, 6]  # Diagonals\n",
    "    ]\n",
    "\n",
    "    for combination in winning_combinations:\n",
    "        if all(game_state[position] == player for position in combination):\n",
    "            return True\n",
    "    return False\n",
    "\n",
    "# Main game loop\n",
    "def play_game():\n",
    "    game_state = initialize_game()\n",
    "\n",
    "    while True:\n",
    "        # Player X's turn\n",
    "        x_move = int(input(\"Player X's move (0-8): \"))\n",
    "        play_move(game_state, x_move, \"X\")\n",
    "        if check_win(game_state, \"X\"):\n",
    "            print(\"Player X wins!\")\n",
    "            break\n",
    "\n",
    "        # Player O's turn\n",
    "        o_move = int(input(\"Player O's move (0-8): \"))\n",
    "        play_move(game_state, o_move, \"O\")\n",
    "        if check_win(game_state, \"O\"):\n",
    "            print(\"Player O wins!\")\n",
    "            break\n",
    "\n",
    "# Start the game\n",
    "play_game()\n"
   ]
  },
  {
   "cell_type": "code",
   "execution_count": null,
   "id": "a23ac7f0-607d-4ff0-9f2c-812d8f91f08c",
   "metadata": {},
   "outputs": [],
   "source": []
  }
 ],
 "metadata": {
  "kernelspec": {
   "display_name": "Python 3 (ipykernel)",
   "language": "python",
   "name": "python3"
  },
  "language_info": {
   "codemirror_mode": {
    "name": "ipython",
    "version": 3
   },
   "file_extension": ".py",
   "mimetype": "text/x-python",
   "name": "python",
   "nbconvert_exporter": "python",
   "pygments_lexer": "ipython3",
   "version": "3.10.8"
  },
  "widgets": {
   "application/vnd.jupyter.widget-state+json": {
    "state": {},
    "version_major": 2,
    "version_minor": 0
   }
  }
 },
 "nbformat": 4,
 "nbformat_minor": 5
}
