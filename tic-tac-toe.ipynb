{
 "cells": [
  {
   "cell_type": "code",
   "execution_count": 1,
   "id": "e7eaf79d-df37-4332-86ba-8a042ff8998d",
   "metadata": {
    "tags": []
   },
   "outputs": [],
   "source": [
    "# Importing standard Qiskit libraries\n",
    "from qiskit import QuantumCircuit, transpile\n",
    "from qiskit.tools.jupyter import *\n",
    "from qiskit.visualization import *\n",
    "from ibm_quantum_widgets import *\n",
    "from qiskit_aer import AerSimulator\n",
    "\n",
    "# qiskit-ibmq-provider has been deprecated.\n",
    "# Please see the Migration Guides in https://ibm.biz/provider_migration_guide for more detail.\n",
    "from qiskit_ibm_runtime import QiskitRuntimeService, Sampler, Estimator, Session, Options\n",
    "\n",
    "# Loading your IBM Quantum account(s)\n",
    "service = QiskitRuntimeService(channel=\"ibm_quantum\")\n",
    "\n",
    "# Invoke a primitive inside a session. For more details see https://qiskit.org/documentation/partners/qiskit_ibm_runtime/tutorials.html\n",
    "# with Session(backend=service.backend(\"ibmq_qasm_simulator\")):\n",
    "#     result = Sampler().run(circuits).result()"
   ]
  },
  {
   "cell_type": "code",
   "execution_count": null,
   "id": "59ef359c-e5ce-42a4-b70f-627a4e1bd950",
   "metadata": {},
   "outputs": [],
   "source": []
  },
  {
   "cell_type": "code",
   "execution_count": 2,
   "id": "791d5ee4-33f6-4073-a427-f6724b47c9d8",
   "metadata": {
    "tags": []
   },
   "outputs": [
    {
     "name": "stdout",
     "output_type": "stream",
     "text": [
      "Traceback \u001b[1;36m(most recent call last)\u001b[0m:\n",
      "\u001b[1;36m  Cell \u001b[1;32mIn[2], line 3\u001b[1;36m\n",
      "\u001b[1;33m    from qiskit.providers import BaseBackend\u001b[1;36m\n",
      "\u001b[1;31mImportError\u001b[0m\u001b[1;31m:\u001b[0m cannot import name 'BaseBackend' from 'qiskit.providers' (/opt/conda/lib/python3.10/site-packages/qiskit/providers/__init__.py)\n",
      "\n",
      "Use %tb to get the full traceback.\n"
     ]
    },
    {
     "data": {
      "text/html": [
       "\n",
       "<style>\n",
       ".button {\n",
       "  border: none;\n",
       "  color: white;\n",
       "  padding: 4px 8px;\n",
       "  text-align: center;\n",
       "  text-decoration: none;\n",
       "  display: inline-block;\n",
       "  font-size: 12px;\n",
       "  margin: 4px 2px;\n",
       "  transition-duration: 0.2s;\n",
       "  cursor: pointer;\n",
       "}\n",
       ".iqx-button {\n",
       "  background-color: #0f62fe; \n",
       "  color: white; \n",
       "}\n",
       ".iqx-button:hover {\n",
       "  background-color: #0043ce;\n",
       "  color: white;\n",
       "}\n",
       "</style>\n",
       "<a href=\"https://stackoverflow.com/search?q=ImportError: cannot import name 'BaseBackend' from 'qiskit.providers' (/opt/conda/lib/python3.10/site-packages/qiskit/providers/__init__.py)\" target='_blank'><button class='button iqx-button'>Search for solution online</button></a>\n"
      ],
      "text/plain": [
       "<IPython.core.display.HTML object>"
      ]
     },
     "metadata": {},
     "output_type": "display_data"
    }
   ],
   "source": [
    "from qiskit import QuantumCircuit, Aer, execute\n",
    "from qiskit.visualization import plot_bloch_multivector, plot_histogram\n",
    "from qiskit.providers import BaseBackend\n",
    "import numpy as np\n",
    "\n",
    "# Define the quantum circuit for a single qubit\n",
    "def create_single_qubit_circuit():\n",
    "    qc = QuantumCircuit(1, 1)\n",
    "    return qc\n",
    "\n",
    "# Perform a measurement on the qubit\n",
    "def measure(qc):\n",
    "    qc.measure(0, 0)\n",
    "    return qc\n",
    "\n",
    "# Simulate the quantum circuit and get the measurement result\n",
    "def simulate_circuit(qc, backend):\n",
    "    job = execute(qc, backend)\n",
    "    result = job.result()\n",
    "    counts = result.get_counts(qc)\n",
    "    return counts\n",
    "\n",
    "# Map the game board state to qubit states\n",
    "def map_game_state_to_qubits(game_state):\n",
    "    qubit_states = {\n",
    "        \" \": [1, 0],  # Empty cell\n",
    "        \"X\": [0, 1],  # Player X\n",
    "        \"O\": [1 / np.sqrt(2), 1j / np.sqrt(2)]  # Player O\n",
    "    }\n",
    "\n",
    "    mapped_state = []\n",
    "    for cell in game_state:\n",
    "        mapped_state.extend(qubit_states[cell])\n",
    "    return mapped_state\n",
    "\n",
    "# Map the qubit states to game board state\n",
    "def map_qubits_to_game_state(qubit_states):\n",
    "    qubit_states = np.array(qubit_states).reshape(-1, 2)\n",
    "    game_state = \"\"\n",
    "    for qubit_state in qubit_states:\n",
    "        if np.allclose(qubit_state, [1, 0]):\n",
    "            game_state += \" \"\n",
    "        elif np.allclose(qubit_state, [0, 1]):\n",
    "            game_state += \"X\"\n",
    "        elif np.allclose(qubit_state, [1 / np.sqrt(2), 1j / np.sqrt(2)]):\n",
    "            game_state += \"O\"\n",
    "    return game_state\n",
    "\n",
    "# Display the tic-tac-toe game board\n",
    "def display_game_board(game_state):\n",
    "    print(\"---------\")\n",
    "    for i in range(0, 9, 3):\n",
    "        row = \" | \".join(game_state[i:i + 3])\n",
    "        print(f\"| {row} |\")\n",
    "        print(\"---------\")\n",
    "\n",
    "# Initialize the game\n",
    "def initialize_game():\n",
    "    game_state = [\" \"] * 9\n",
    "    display_game_board(game_state)\n",
    "    return game_state\n",
    "\n",
    "# Play a move\n",
    "def play_move(game_state, position, player):\n",
    "    if game_state[position] == \" \":\n",
    "        game_state[position] = player\n",
    "        display_game_board(game_state)\n",
    "    else:\n",
    "        print(\"Invalid move! The cell is already occupied.\")\n",
    "\n",
    "# Check if a player has won\n",
    "def check_win(game_state, player):\n",
    "    winning_combinations = [\n",
    "        [0, 1, 2], [3, 4, 5], [6, 7, 8],  # Rows\n",
    "        [0, 3, 6], [1, 4, 7], [2, 5, 8],  # Columns\n",
    "        [0, 4, 8], [2, 4, 6]  # Diagonals\n",
    "    ]\n",
    "\n",
    "    for combination in winning_combinations:\n",
    "        if all(game_state[position] == player for position in combination):\n",
    "            return True\n",
    "    return False\n",
    "\n",
    "# Main game loop\n",
    "def play_game():\n",
    "    game_state = initialize_game()\n",
    "\n",
    "    while True:\n",
    "        # Player X's turn\n",
    "        x_move = int(input(\"Player X's move (0-8): \"))\n",
    "        play_move(game_state, x_move, \"X\")\n",
    "        if check_win(game_state, \"X\"):\n",
    "            print(\"Player X wins!\")\n",
    "            break\n",
    "\n",
    "        # Player O's turn\n",
    "        o_move = int(input(\"Player O's move (0-8): \"))\n",
    "        play_move(game_state, o_move, \"O\")\n",
    "        if check_win(game_state, \"O\"):\n",
    "            print(\"Player O wins!\")\n",
    "            break\n",
    "\n",
    "# Start the game\n",
    "play_game()\n"
   ]
  },
  {
   "cell_type": "code",
   "execution_count": 3,
   "id": "9ef6f5f5-5b83-41c4-80ee-03e8d49eb5b4",
   "metadata": {
    "tags": []
   },
   "outputs": [
    {
     "name": "stdout",
     "output_type": "stream",
     "text": [
      "---------\n",
      "|   |   |   |\n",
      "---------\n",
      "|   |   |   |\n",
      "---------\n",
      "|   |   |   |\n",
      "---------\n"
     ]
    },
    {
     "name": "stdin",
     "output_type": "stream",
     "text": [
      "Player X's move (0-8):  0\n"
     ]
    },
    {
     "name": "stdout",
     "output_type": "stream",
     "text": [
      "---------\n",
      "| X |   |   |\n",
      "---------\n",
      "|   |   |   |\n",
      "---------\n",
      "|   |   |   |\n",
      "---------\n"
     ]
    },
    {
     "name": "stdin",
     "output_type": "stream",
     "text": [
      "Player O's move (0-8):  2\n"
     ]
    },
    {
     "name": "stdout",
     "output_type": "stream",
     "text": [
      "---------\n",
      "| X |   | O |\n",
      "---------\n",
      "|   |   |   |\n",
      "---------\n",
      "|   |   |   |\n",
      "---------\n"
     ]
    },
    {
     "name": "stdin",
     "output_type": "stream",
     "text": [
      "Player X's move (0-8):  4\n"
     ]
    },
    {
     "name": "stdout",
     "output_type": "stream",
     "text": [
      "---------\n",
      "| X |   | O |\n",
      "---------\n",
      "|   | X |   |\n",
      "---------\n",
      "|   |   |   |\n",
      "---------\n"
     ]
    },
    {
     "name": "stdin",
     "output_type": "stream",
     "text": [
      "Player O's move (0-8):  8\n"
     ]
    },
    {
     "name": "stdout",
     "output_type": "stream",
     "text": [
      "---------\n",
      "| X |   | O |\n",
      "---------\n",
      "|   | X |   |\n",
      "---------\n",
      "|   |   | O |\n",
      "---------\n"
     ]
    },
    {
     "name": "stdin",
     "output_type": "stream",
     "text": [
      "Player X's move (0-8):  6\n"
     ]
    },
    {
     "name": "stdout",
     "output_type": "stream",
     "text": [
      "---------\n",
      "| X |   | O |\n",
      "---------\n",
      "|   | X |   |\n",
      "---------\n",
      "| X |   | O |\n",
      "---------\n"
     ]
    },
    {
     "name": "stdin",
     "output_type": "stream",
     "text": [
      "Player O's move (0-8):  5\n"
     ]
    },
    {
     "name": "stdout",
     "output_type": "stream",
     "text": [
      "---------\n",
      "| X |   | O |\n",
      "---------\n",
      "|   | X | O |\n",
      "---------\n",
      "| X |   | O |\n",
      "---------\n",
      "Player O wins!\n"
     ]
    }
   ],
   "source": [
    "from qiskit import QuantumCircuit, Aer, execute\n",
    "from qiskit.visualization import plot_bloch_multivector, plot_histogram\n",
    "import numpy as np\n",
    "\n",
    "# Define the quantum circuit for a single qubit\n",
    "def create_single_qubit_circuit():\n",
    "    qc = QuantumCircuit(1, 1)\n",
    "    return qc\n",
    "\n",
    "# Perform a measurement on the qubit\n",
    "def measure(qc):\n",
    "    qc.measure(0, 0)\n",
    "    return qc\n",
    "\n",
    "# Simulate the quantum circuit and get the measurement result\n",
    "def simulate_circuit(qc, backend):\n",
    "    job = execute(qc, backend)\n",
    "    result = job.result()\n",
    "    counts = result.get_counts(qc)\n",
    "    return counts\n",
    "\n",
    "# Map the game board state to qubit states\n",
    "def map_game_state_to_qubits(game_state):\n",
    "    qubit_states = {\n",
    "        \" \": [1, 0],  # Empty cell\n",
    "        \"X\": [0, 1],  # Player X\n",
    "        \"O\": [1 / np.sqrt(2), 1j / np.sqrt(2)]  # Player O\n",
    "    }\n",
    "\n",
    "    mapped_state = []\n",
    "    for cell in game_state:\n",
    "        mapped_state.extend(qubit_states[cell])\n",
    "    return mapped_state\n",
    "\n",
    "# Map the qubit states to game board state\n",
    "def map_qubits_to_game_state(qubit_states):\n",
    "    qubit_states = np.array(qubit_states).reshape(-1, 2)\n",
    "    game_state = \"\"\n",
    "    for qubit_state in qubit_states:\n",
    "        if np.allclose(qubit_state, [1, 0]):\n",
    "            game_state += \" \"\n",
    "        elif np.allclose(qubit_state, [0, 1]):\n",
    "            game_state += \"X\"\n",
    "        elif np.allclose(qubit_state, [1 / np.sqrt(2), 1j / np.sqrt(2)]):\n",
    "            game_state += \"O\"\n",
    "    return game_state\n",
    "\n",
    "# Display the tic-tac-toe game board\n",
    "def display_game_board(game_state):\n",
    "    print(\"---------\")\n",
    "    for i in range(0, 9, 3):\n",
    "        row = \" | \".join(game_state[i:i + 3])\n",
    "        print(f\"| {row} |\")\n",
    "        print(\"---------\")\n",
    "\n",
    "# Initialize the game\n",
    "def initialize_game():\n",
    "    game_state = [\" \"] * 9\n",
    "    display_game_board(game_state)\n",
    "    return game_state\n",
    "\n",
    "# Play a move\n",
    "def play_move(game_state, position, player):\n",
    "    if game_state[position] == \" \":\n",
    "        game_state[position] = player\n",
    "        display_game_board(game_state)\n",
    "    else:\n",
    "        print(\"Invalid move! The cell is already occupied.\")\n",
    "\n",
    "# Check if a player has won\n",
    "def check_win(game_state, player):\n",
    "    winning_combinations = [\n",
    "        [0, 1, 2], [3, 4, 5], [6, 7, 8],  # Rows\n",
    "        [0, 3, 6], [1, 4, 7], [2, 5, 8],  # Columns\n",
    "        [0, 4, 8], [2, 4, 6]  # Diagonals\n",
    "    ]\n",
    "\n",
    "    for combination in winning_combinations:\n",
    "        if all(game_state[position] == player for position in combination):\n",
    "            return True\n",
    "    return False\n",
    "\n",
    "# Main game loop\n",
    "def play_game():\n",
    "    game_state = initialize_game()\n",
    "\n",
    "    while True:\n",
    "        # Player X's turn\n",
    "        x_move = int(input(\"Player X's move (0-8): \"))\n",
    "        play_move(game_state, x_move, \"X\")\n",
    "        if check_win(game_state, \"X\"):\n",
    "            print(\"Player X wins!\")\n",
    "            break\n",
    "\n",
    "        # Player O's turn\n",
    "        o_move = int(input(\"Player O's move (0-8): \"))\n",
    "        play_move(game_state, o_move, \"O\")\n",
    "        if check_win(game_state, \"O\"):\n",
    "            print(\"Player O wins!\")\n",
    "            break\n",
    "\n",
    "# Start the game\n",
    "play_game()\n"
   ]
  },
  {
   "cell_type": "code",
   "execution_count": null,
   "id": "a23ac7f0-607d-4ff0-9f2c-812d8f91f08c",
   "metadata": {},
   "outputs": [],
   "source": []
  }
 ],
 "metadata": {
  "kernelspec": {
   "display_name": "Python 3 (ipykernel)",
   "language": "python",
   "name": "python3"
  },
  "language_info": {
   "codemirror_mode": {
    "name": "ipython",
    "version": 3
   },
   "file_extension": ".py",
   "mimetype": "text/x-python",
   "name": "python",
   "nbconvert_exporter": "python",
   "pygments_lexer": "ipython3",
   "version": "3.10.8"
  },
  "widgets": {
   "application/vnd.jupyter.widget-state+json": {
    "state": {
     "392ae1b624a5452eb2a778b61b06aec1": {
      "model_module": "@jupyter-widgets/base",
      "model_module_version": "2.0.0",
      "model_name": "LayoutModel",
      "state": {
       "width": "145px"
      }
     },
     "465a1b09b6ba478da3185e4cb2d2d5a3": {
      "model_module": "@jupyter-widgets/base",
      "model_module_version": "2.0.0",
      "model_name": "LayoutModel",
      "state": {
       "width": "190px"
      }
     },
     "47801511c5e449b0926dd563b6a6a80c": {
      "model_module": "@jupyter-widgets/base",
      "model_module_version": "2.0.0",
      "model_name": "LayoutModel",
      "state": {
       "margin": "0px 0px 0px 37px",
       "width": "600px"
      }
     },
     "4835c36836574338843a78831997c3e0": {
      "model_module": "@jupyter-widgets/controls",
      "model_module_version": "2.0.0",
      "model_name": "HTMLModel",
      "state": {
       "layout": "IPY_MODEL_392ae1b624a5452eb2a778b61b06aec1",
       "style": "IPY_MODEL_6ab10196af254bb489d0997d387993b5",
       "value": "<h5>Backend</h5>"
      }
     },
     "4d95d3689c314554886bcc56f98edf80": {
      "model_module": "@jupyter-widgets/controls",
      "model_module_version": "2.0.0",
      "model_name": "HTMLModel",
      "state": {
       "layout": "IPY_MODEL_cf76a77340c641ba861921cc7ca2964a",
       "style": "IPY_MODEL_cfc7871ca002463984f134cd16027f35",
       "value": "<h5>Queue</h5>"
      }
     },
     "5635556d689546a6a190ddbd84dd9f33": {
      "model_module": "@jupyter-widgets/base",
      "model_module_version": "2.0.0",
      "model_name": "LayoutModel",
      "state": {
       "grid_template_areas": "\n                                       \". . . . right \"\n                                        ",
       "grid_template_columns": "20% 20% 20% 20% 20%",
       "width": "100%"
      }
     },
     "5a7c1787fa1c4bcb80c77002e31c6327": {
      "model_module": "@jupyter-widgets/controls",
      "model_module_version": "2.0.0",
      "model_name": "HTMLStyleModel",
      "state": {
       "description_width": "",
       "font_size": null,
       "text_color": null
      }
     },
     "627cfcfc05b94c7c8e04b0ea052f0783": {
      "model_module": "@jupyter-widgets/base",
      "model_module_version": "2.0.0",
      "model_name": "LayoutModel",
      "state": {
       "margin": "0px 0px 10px 0px"
      }
     },
     "65de6b15a05a4f95abecc247f949ba25": {
      "model_module": "@jupyter-widgets/controls",
      "model_module_version": "2.0.0",
      "model_name": "HBoxModel",
      "state": {
       "children": [
        "IPY_MODEL_f5314eb342ff4738bf42ba5977f25123",
        "IPY_MODEL_4835c36836574338843a78831997c3e0",
        "IPY_MODEL_b65b30a6a2dc4a81b63d133434fe2c95",
        "IPY_MODEL_4d95d3689c314554886bcc56f98edf80",
        "IPY_MODEL_da049ba110ac46efb024e36d43b76f65"
       ],
       "layout": "IPY_MODEL_47801511c5e449b0926dd563b6a6a80c"
      }
     },
     "6ab10196af254bb489d0997d387993b5": {
      "model_module": "@jupyter-widgets/controls",
      "model_module_version": "2.0.0",
      "model_name": "HTMLStyleModel",
      "state": {
       "description_width": "",
       "font_size": null,
       "text_color": null
      }
     },
     "6b248cc781bc43a0872e008abfb011cd": {
      "model_module": "@jupyter-widgets/controls",
      "model_module_version": "2.0.0",
      "model_name": "HTMLModel",
      "state": {
       "layout": "IPY_MODEL_627cfcfc05b94c7c8e04b0ea052f0783",
       "style": "IPY_MODEL_5a7c1787fa1c4bcb80c77002e31c6327",
       "value": "<p style='font-family: IBM Plex Sans, Arial, Helvetica, sans-serif; font-size: 20px; font-weight: medium;'>Circuit Properties</p>"
      }
     },
     "6c19660fc271417c87c0d88ba1010e8e": {
      "model_module": "@jupyter-widgets/controls",
      "model_module_version": "2.0.0",
      "model_name": "HTMLStyleModel",
      "state": {
       "description_width": "",
       "font_size": null,
       "text_color": null
      }
     },
     "78b8742489f440fea71a5a2f86edb387": {
      "model_module": "@jupyter-widgets/controls",
      "model_module_version": "2.0.0",
      "model_name": "ButtonModel",
      "state": {
       "button_style": "primary",
       "description": "Clear",
       "layout": "IPY_MODEL_d489eab85a784334b0e1e27b4bff64df",
       "style": "IPY_MODEL_fed89f40d61a4c77a502a93f3d25b6d4",
       "tooltip": null
      }
     },
     "7ce50ccadd104f82b0c632ae7349841b": {
      "model_module": "@jupyter-widgets/controls",
      "model_module_version": "2.0.0",
      "model_name": "GridBoxModel",
      "state": {
       "children": [
        "IPY_MODEL_78b8742489f440fea71a5a2f86edb387"
       ],
       "layout": "IPY_MODEL_5635556d689546a6a190ddbd84dd9f33"
      }
     },
     "7e5bb448f99843e0b8f74839ba13eed3": {
      "model_module": "@jupyter-widgets/base",
      "model_module_version": "2.0.0",
      "model_name": "LayoutModel",
      "state": {
       "width": "95px"
      }
     },
     "b65b30a6a2dc4a81b63d133434fe2c95": {
      "model_module": "@jupyter-widgets/controls",
      "model_module_version": "2.0.0",
      "model_name": "HTMLModel",
      "state": {
       "layout": "IPY_MODEL_7e5bb448f99843e0b8f74839ba13eed3",
       "style": "IPY_MODEL_bfba7a6ac99b403faae1f612d57db4f7",
       "value": "<h5>Status</h5>"
      }
     },
     "bfba7a6ac99b403faae1f612d57db4f7": {
      "model_module": "@jupyter-widgets/controls",
      "model_module_version": "2.0.0",
      "model_name": "HTMLStyleModel",
      "state": {
       "description_width": "",
       "font_size": null,
       "text_color": null
      }
     },
     "c8823d1446ee4e66bebee39758ff4a82": {
      "model_module": "@jupyter-widgets/base",
      "model_module_version": "2.0.0",
      "model_name": "LayoutModel",
      "state": {}
     },
     "cf76a77340c641ba861921cc7ca2964a": {
      "model_module": "@jupyter-widgets/base",
      "model_module_version": "2.0.0",
      "model_name": "LayoutModel",
      "state": {
       "width": "70px"
      }
     },
     "cfc7871ca002463984f134cd16027f35": {
      "model_module": "@jupyter-widgets/controls",
      "model_module_version": "2.0.0",
      "model_name": "HTMLStyleModel",
      "state": {
       "description_width": "",
       "font_size": null,
       "text_color": null
      }
     },
     "d489eab85a784334b0e1e27b4bff64df": {
      "model_module": "@jupyter-widgets/base",
      "model_module_version": "2.0.0",
      "model_name": "LayoutModel",
      "state": {
       "grid_area": "right",
       "padding": "0px 0px 0px 0px",
       "width": "70px"
      }
     },
     "da049ba110ac46efb024e36d43b76f65": {
      "model_module": "@jupyter-widgets/controls",
      "model_module_version": "2.0.0",
      "model_name": "HTMLModel",
      "state": {
       "layout": "IPY_MODEL_c8823d1446ee4e66bebee39758ff4a82",
       "style": "IPY_MODEL_fe6d5e9a2c054ef3bf3a4342d18579a4",
       "value": "<h5>Message</h5>"
      }
     },
     "f5314eb342ff4738bf42ba5977f25123": {
      "model_module": "@jupyter-widgets/controls",
      "model_module_version": "2.0.0",
      "model_name": "HTMLModel",
      "state": {
       "layout": "IPY_MODEL_465a1b09b6ba478da3185e4cb2d2d5a3",
       "style": "IPY_MODEL_6c19660fc271417c87c0d88ba1010e8e",
       "value": "<h5>Job ID</h5>"
      }
     },
     "fe6d5e9a2c054ef3bf3a4342d18579a4": {
      "model_module": "@jupyter-widgets/controls",
      "model_module_version": "2.0.0",
      "model_name": "HTMLStyleModel",
      "state": {
       "description_width": "",
       "font_size": null,
       "text_color": null
      }
     },
     "fed89f40d61a4c77a502a93f3d25b6d4": {
      "model_module": "@jupyter-widgets/controls",
      "model_module_version": "2.0.0",
      "model_name": "ButtonStyleModel",
      "state": {
       "font_family": null,
       "font_size": null,
       "font_style": null,
       "font_variant": null,
       "font_weight": null,
       "text_color": null,
       "text_decoration": null
      }
     }
    },
    "version_major": 2,
    "version_minor": 0
   }
  }
 },
 "nbformat": 4,
 "nbformat_minor": 5
}
